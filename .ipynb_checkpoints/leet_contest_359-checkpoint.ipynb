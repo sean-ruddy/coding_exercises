{
 "cells": [
  {
   "cell_type": "code",
   "execution_count": null,
   "id": "2a1265ef",
   "metadata": {},
   "outputs": [],
   "source": [
    "### Weekly Contest 359\n",
    "# https://leetcode.com/contest/weekly-contest-359/ranking/\n",
    "\n",
    "## Results Summary\n",
    "# Q1: \n",
    "# Q2: \n",
    "# Q3: \n",
    "# Q4: \n",
    "\n",
    "## Learnings\n",
    "# 1. \n",
    "\n",
    "\n"
   ]
  },
  {
   "cell_type": "code",
   "execution_count": null,
   "id": "8b3f0c3b",
   "metadata": {},
   "outputs": [],
   "source": [
    "## Needed or learned about Libraries\n",
    "from typing import List # <- necessary to write function descriptions\n",
    "from collections import defaultdict\n",
    "from copy import deepcopy\n",
    "from heapq import heappop, heappush\n",
    "from math import comb\n",
    "from string import ascii_lowercase\n",
    "\n"
   ]
  },
  {
   "cell_type": "code",
   "execution_count": null,
   "id": "7f0306ad",
   "metadata": {},
   "outputs": [],
   "source": [
    "## Q1: Easy"
   ]
  },
  {
   "cell_type": "code",
   "execution_count": null,
   "id": "4d714984",
   "metadata": {},
   "outputs": [],
   "source": [
    "## Q2: Medium"
   ]
  },
  {
   "cell_type": "code",
   "execution_count": null,
   "id": "90e3dfa3",
   "metadata": {},
   "outputs": [],
   "source": [
    "## Q3: Medium"
   ]
  },
  {
   "cell_type": "code",
   "execution_count": null,
   "id": "4f5b45f5",
   "metadata": {},
   "outputs": [],
   "source": [
    "## Q4: Hard"
   ]
  }
 ],
 "metadata": {
  "kernelspec": {
   "display_name": "Python 3 (ipykernel)",
   "language": "python",
   "name": "python3"
  },
  "language_info": {
   "codemirror_mode": {
    "name": "ipython",
    "version": 3
   },
   "file_extension": ".py",
   "mimetype": "text/x-python",
   "name": "python",
   "nbconvert_exporter": "python",
   "pygments_lexer": "ipython3",
   "version": "3.9.12"
  }
 },
 "nbformat": 4,
 "nbformat_minor": 5
}
